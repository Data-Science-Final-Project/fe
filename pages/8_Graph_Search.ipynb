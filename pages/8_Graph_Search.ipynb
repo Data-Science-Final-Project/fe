{
 "cells": [
  {
   "cell_type": "code",
   "execution_count": null,
   "id": "43ce1d29-53d8-4444-9d89-c8b8812f6f4f",
   "metadata": {},
   "outputs": [],
   "source": [
    "import streamlit as st\n",
    "\n",
    "st.set_page_config(page_title=\"Mini Lawyer - Judgments\", page_icon=\"📜\", layout=\"wide\")\n",
    "\n",
    "from app_resources import mongo_client\n",
    "from dotenv import load_dotenv\n",
    "import os\n",
    "from datetime import datetime\n",
    "\n",
    "# Load environment variables\n",
    "load_dotenv()\n",
    "\n",
    "# Database details\n",
    "MONGO_URI = os.getenv('MONGO_URI')\n",
    "DATABASE_NAME = os.getenv('DATABASE_NAME')\n",
    "COLLECTION_NAME = \"judgments\""
   ]
  }
 ],
 "metadata": {
  "kernelspec": {
   "display_name": "Python 3 (ipykernel)",
   "language": "python",
   "name": "python3"
  },
  "language_info": {
   "codemirror_mode": {
    "name": "ipython",
    "version": 3
   },
   "file_extension": ".py",
   "mimetype": "text/x-python",
   "name": "python",
   "nbconvert_exporter": "python",
   "pygments_lexer": "ipython3",
   "version": "3.11.7"
  }
 },
 "nbformat": 4,
 "nbformat_minor": 5
}
